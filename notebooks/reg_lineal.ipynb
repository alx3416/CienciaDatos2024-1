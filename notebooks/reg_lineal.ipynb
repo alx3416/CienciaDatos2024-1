{
 "cells": [
  {
   "cell_type": "code",
   "execution_count": 11,
   "metadata": {},
   "outputs": [
    {
     "name": "stdout",
     "output_type": "stream",
     "text": [
      "Requirement already satisfied: pandas in /home/cwolf/Documents/ENTORNOS/Clon/CienciaDatos2024-1/.venv/lib64/python3.11/site-packages (2.2.1)\n",
      "Requirement already satisfied: numpy<2,>=1.23.2 in /home/cwolf/Documents/ENTORNOS/Clon/CienciaDatos2024-1/.venv/lib64/python3.11/site-packages (from pandas) (1.26.4)\n",
      "Requirement already satisfied: python-dateutil>=2.8.2 in /home/cwolf/Documents/ENTORNOS/Clon/CienciaDatos2024-1/.venv/lib64/python3.11/site-packages (from pandas) (2.9.0.post0)\n",
      "Requirement already satisfied: pytz>=2020.1 in /home/cwolf/Documents/ENTORNOS/Clon/CienciaDatos2024-1/.venv/lib64/python3.11/site-packages (from pandas) (2024.1)\n",
      "Requirement already satisfied: tzdata>=2022.7 in /home/cwolf/Documents/ENTORNOS/Clon/CienciaDatos2024-1/.venv/lib64/python3.11/site-packages (from pandas) (2024.1)\n",
      "Requirement already satisfied: six>=1.5 in /home/cwolf/Documents/ENTORNOS/Clon/CienciaDatos2024-1/.venv/lib64/python3.11/site-packages (from python-dateutil>=2.8.2->pandas) (1.16.0)\n",
      "Requirement already satisfied: scikit-learn in /home/cwolf/Documents/ENTORNOS/Clon/CienciaDatos2024-1/.venv/lib64/python3.11/site-packages (1.4.1.post1)\n",
      "Requirement already satisfied: numpy<2.0,>=1.19.5 in /home/cwolf/Documents/ENTORNOS/Clon/CienciaDatos2024-1/.venv/lib64/python3.11/site-packages (from scikit-learn) (1.26.4)\n",
      "Requirement already satisfied: scipy>=1.6.0 in /home/cwolf/Documents/ENTORNOS/Clon/CienciaDatos2024-1/.venv/lib64/python3.11/site-packages (from scikit-learn) (1.12.0)\n",
      "Requirement already satisfied: joblib>=1.2.0 in /home/cwolf/Documents/ENTORNOS/Clon/CienciaDatos2024-1/.venv/lib64/python3.11/site-packages (from scikit-learn) (1.3.2)\n",
      "Requirement already satisfied: threadpoolctl>=2.0.0 in /home/cwolf/Documents/ENTORNOS/Clon/CienciaDatos2024-1/.venv/lib64/python3.11/site-packages (from scikit-learn) (3.3.0)\n",
      "Requirement already satisfied: matplotlib in /home/cwolf/Documents/ENTORNOS/Clon/CienciaDatos2024-1/.venv/lib64/python3.11/site-packages (3.8.3)\n",
      "Requirement already satisfied: contourpy>=1.0.1 in /home/cwolf/Documents/ENTORNOS/Clon/CienciaDatos2024-1/.venv/lib64/python3.11/site-packages (from matplotlib) (1.2.0)\n",
      "Requirement already satisfied: cycler>=0.10 in /home/cwolf/Documents/ENTORNOS/Clon/CienciaDatos2024-1/.venv/lib64/python3.11/site-packages (from matplotlib) (0.12.1)\n",
      "Requirement already satisfied: fonttools>=4.22.0 in /home/cwolf/Documents/ENTORNOS/Clon/CienciaDatos2024-1/.venv/lib64/python3.11/site-packages (from matplotlib) (4.49.0)\n",
      "Requirement already satisfied: kiwisolver>=1.3.1 in /home/cwolf/Documents/ENTORNOS/Clon/CienciaDatos2024-1/.venv/lib64/python3.11/site-packages (from matplotlib) (1.4.5)\n",
      "Requirement already satisfied: numpy<2,>=1.21 in /home/cwolf/Documents/ENTORNOS/Clon/CienciaDatos2024-1/.venv/lib64/python3.11/site-packages (from matplotlib) (1.26.4)\n",
      "Requirement already satisfied: packaging>=20.0 in /home/cwolf/Documents/ENTORNOS/Clon/CienciaDatos2024-1/.venv/lib64/python3.11/site-packages (from matplotlib) (23.2)\n",
      "Requirement already satisfied: pillow>=8 in /home/cwolf/Documents/ENTORNOS/Clon/CienciaDatos2024-1/.venv/lib64/python3.11/site-packages (from matplotlib) (10.2.0)\n",
      "Requirement already satisfied: pyparsing>=2.3.1 in /home/cwolf/Documents/ENTORNOS/Clon/CienciaDatos2024-1/.venv/lib64/python3.11/site-packages (from matplotlib) (3.1.1)\n",
      "Requirement already satisfied: python-dateutil>=2.7 in /home/cwolf/Documents/ENTORNOS/Clon/CienciaDatos2024-1/.venv/lib64/python3.11/site-packages (from matplotlib) (2.9.0.post0)\n",
      "Requirement already satisfied: six>=1.5 in /home/cwolf/Documents/ENTORNOS/Clon/CienciaDatos2024-1/.venv/lib64/python3.11/site-packages (from python-dateutil>=2.7->matplotlib) (1.16.0)\n",
      "Requirement already satisfied: seaborn in /home/cwolf/Documents/ENTORNOS/Clon/CienciaDatos2024-1/.venv/lib64/python3.11/site-packages (0.13.2)\n",
      "Requirement already satisfied: numpy!=1.24.0,>=1.20 in /home/cwolf/Documents/ENTORNOS/Clon/CienciaDatos2024-1/.venv/lib64/python3.11/site-packages (from seaborn) (1.26.4)\n",
      "Requirement already satisfied: pandas>=1.2 in /home/cwolf/Documents/ENTORNOS/Clon/CienciaDatos2024-1/.venv/lib64/python3.11/site-packages (from seaborn) (2.2.1)\n",
      "Requirement already satisfied: matplotlib!=3.6.1,>=3.4 in /home/cwolf/Documents/ENTORNOS/Clon/CienciaDatos2024-1/.venv/lib64/python3.11/site-packages (from seaborn) (3.8.3)\n",
      "Requirement already satisfied: contourpy>=1.0.1 in /home/cwolf/Documents/ENTORNOS/Clon/CienciaDatos2024-1/.venv/lib64/python3.11/site-packages (from matplotlib!=3.6.1,>=3.4->seaborn) (1.2.0)\n",
      "Requirement already satisfied: cycler>=0.10 in /home/cwolf/Documents/ENTORNOS/Clon/CienciaDatos2024-1/.venv/lib64/python3.11/site-packages (from matplotlib!=3.6.1,>=3.4->seaborn) (0.12.1)\n",
      "Requirement already satisfied: fonttools>=4.22.0 in /home/cwolf/Documents/ENTORNOS/Clon/CienciaDatos2024-1/.venv/lib64/python3.11/site-packages (from matplotlib!=3.6.1,>=3.4->seaborn) (4.49.0)\n",
      "Requirement already satisfied: kiwisolver>=1.3.1 in /home/cwolf/Documents/ENTORNOS/Clon/CienciaDatos2024-1/.venv/lib64/python3.11/site-packages (from matplotlib!=3.6.1,>=3.4->seaborn) (1.4.5)\n",
      "Requirement already satisfied: packaging>=20.0 in /home/cwolf/Documents/ENTORNOS/Clon/CienciaDatos2024-1/.venv/lib64/python3.11/site-packages (from matplotlib!=3.6.1,>=3.4->seaborn) (23.2)\n",
      "Requirement already satisfied: pillow>=8 in /home/cwolf/Documents/ENTORNOS/Clon/CienciaDatos2024-1/.venv/lib64/python3.11/site-packages (from matplotlib!=3.6.1,>=3.4->seaborn) (10.2.0)\n",
      "Requirement already satisfied: pyparsing>=2.3.1 in /home/cwolf/Documents/ENTORNOS/Clon/CienciaDatos2024-1/.venv/lib64/python3.11/site-packages (from matplotlib!=3.6.1,>=3.4->seaborn) (3.1.1)\n",
      "Requirement already satisfied: python-dateutil>=2.7 in /home/cwolf/Documents/ENTORNOS/Clon/CienciaDatos2024-1/.venv/lib64/python3.11/site-packages (from matplotlib!=3.6.1,>=3.4->seaborn) (2.9.0.post0)\n",
      "Requirement already satisfied: pytz>=2020.1 in /home/cwolf/Documents/ENTORNOS/Clon/CienciaDatos2024-1/.venv/lib64/python3.11/site-packages (from pandas>=1.2->seaborn) (2024.1)\n",
      "Requirement already satisfied: tzdata>=2022.7 in /home/cwolf/Documents/ENTORNOS/Clon/CienciaDatos2024-1/.venv/lib64/python3.11/site-packages (from pandas>=1.2->seaborn) (2024.1)\n",
      "Requirement already satisfied: six>=1.5 in /home/cwolf/Documents/ENTORNOS/Clon/CienciaDatos2024-1/.venv/lib64/python3.11/site-packages (from python-dateutil>=2.7->matplotlib!=3.6.1,>=3.4->seaborn) (1.16.0)\n",
      "Collecting plotly\n",
      "  Downloading plotly-5.19.0-py3-none-any.whl.metadata (7.0 kB)\n",
      "Collecting tenacity>=6.2.0 (from plotly)\n",
      "  Downloading tenacity-8.2.3-py3-none-any.whl.metadata (1.0 kB)\n",
      "Requirement already satisfied: packaging in /home/cwolf/Documents/ENTORNOS/Clon/CienciaDatos2024-1/.venv/lib64/python3.11/site-packages (from plotly) (23.2)\n",
      "Downloading plotly-5.19.0-py3-none-any.whl (15.7 MB)\n",
      "\u001b[2K   \u001b[90m━━━━━━━━━━━━━━━━━━━━━━━━━━━━━━━━━━━━━━━━\u001b[0m \u001b[32m15.7/15.7 MB\u001b[0m \u001b[31m454.2 kB/s\u001b[0m eta \u001b[36m0:00:00\u001b[0m00:01\u001b[0m00:01\u001b[0m\n",
      "\u001b[?25hDownloading tenacity-8.2.3-py3-none-any.whl (24 kB)\n",
      "Installing collected packages: tenacity, plotly\n",
      "Successfully installed plotly-5.19.0 tenacity-8.2.3\n"
     ]
    }
   ],
   "source": [
    "!pip install pandas\n",
    "!pip install scikit-learn\n",
    "!pip install matplotlib\n",
    "!pip install seaborn\n",
    "!pip install plotly"
   ]
  },
  {
   "cell_type": "code",
   "execution_count": 9,
   "metadata": {},
   "outputs": [],
   "source": [
    "import os\n",
    "import math as mt\n",
    "import pandas as pd\n",
    "from sklearn import linear_model\n",
    "from sklearn.metrics import mean_squared_error, r2_score"
   ]
  },
  {
   "cell_type": "code",
   "execution_count": 12,
   "metadata": {},
   "outputs": [],
   "source": [
    "import sys\n",
    "sys.path.append(\"../\")\n",
    "\n",
    "import utils.imports as imp\n",
    "import utils.visuals as visu\n",
    "import utils.processing as proc"
   ]
  },
  {
   "cell_type": "code",
   "execution_count": 14,
   "metadata": {},
   "outputs": [
    {
     "name": "stdout",
     "output_type": "stream",
     "text": [
      "output/histograms folder created\n",
      "output/scatterplots folder created\n",
      "output/correlations folder created\n"
     ]
    }
   ],
   "source": [
    "dataset = imp.read_diabetes_dataset(\"../data/diabetes.tab.txt\")\n",
    "\n",
    "# Generar y guardar los histogramas para una exploración inicial\n",
    "visu.save_histogram(dataset, \"AGE\")\n",
    "visu.save_histograms(dataset)\n",
    "visu.save_correlation(dataset, \"BMI\", \"S6\")\n",
    "visu.save_all_correlations(dataset, dataset.corr())\n",
    "visu.save_all_correlations_one_image(dataset)"
   ]
  },
  {
   "cell_type": "code",
   "execution_count": 15,
   "metadata": {},
   "outputs": [
    {
     "name": "stdout",
     "output_type": "stream",
     "text": [
      "Coefficients:  [  10.19165519 -201.12314085  518.16030658  311.41808911 -854.05103587\n",
      "  445.36464551  128.87307506  121.06503976  787.44340409  134.13278711]\n",
      "Mean Squared Error:  2953.595969194358\n",
      "R² Score:  0.5203308860673392\n"
     ]
    }
   ],
   "source": [
    "norm_dataset = proc.normalize_diabetes_data(dataset)\n",
    "training_data, test_data = proc.split_data(norm_dataset, 0.7)\n",
    "training_input = training_data[['AGE', 'SEX', 'BMI', 'BP', 'S1', 'S2', 'S3', 'S4', 'S5', 'S6']]\n",
    "training_output = training_data[\"Y\"]\n",
    "model = proc.simple_linear_regression(training_input, training_output, 10)\n",
    "\n",
    "test_input = training_data[['AGE', 'SEX', 'BMI', 'BP', 'S1', 'S2', 'S3', 'S4', 'S5', 'S6']]\n",
    "test_output = training_data[\"Y\"]\n",
    "test_predictions = proc.test_predictions(model, test_input, 10)\n",
    "\n",
    "coefficients = proc.get_coefficients(model)\n",
    "print(\"Coefficients: \", coefficients)\n",
    "MSE = proc.get_mean_squared_error(test_output,\n",
    "                                  test_predictions)\n",
    "print(\"Mean Squared Error: \", MSE)\n",
    "R2 = proc.get_coefficient_determination(test_output,\n",
    "                                        test_predictions)\n",
    "print(\"R² Score: \", R2)"
   ]
  }
 ],
 "metadata": {
  "kernelspec": {
   "display_name": ".venv",
   "language": "python",
   "name": "python3"
  },
  "language_info": {
   "codemirror_mode": {
    "name": "ipython",
    "version": 3
   },
   "file_extension": ".py",
   "mimetype": "text/x-python",
   "name": "python",
   "nbconvert_exporter": "python",
   "pygments_lexer": "ipython3",
   "version": "3.11.6"
  }
 },
 "nbformat": 4,
 "nbformat_minor": 2
}

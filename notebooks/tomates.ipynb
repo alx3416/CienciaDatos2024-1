{
 "cells": [
  {
   "cell_type": "code",
   "execution_count": 21,
   "metadata": {},
   "outputs": [
    {
     "name": "stdout",
     "output_type": "stream",
     "text": [
      "Requirement already satisfied: pandas in /home/cwolf/Documents/ENTORNOS/Clon/CienciaDatos2024-1/.venv/lib64/python3.11/site-packages (2.2.1)\n",
      "Requirement already satisfied: numpy<2,>=1.23.2 in /home/cwolf/Documents/ENTORNOS/Clon/CienciaDatos2024-1/.venv/lib64/python3.11/site-packages (from pandas) (1.26.4)\n",
      "Requirement already satisfied: python-dateutil>=2.8.2 in /home/cwolf/Documents/ENTORNOS/Clon/CienciaDatos2024-1/.venv/lib64/python3.11/site-packages (from pandas) (2.9.0.post0)\n",
      "Requirement already satisfied: pytz>=2020.1 in /home/cwolf/Documents/ENTORNOS/Clon/CienciaDatos2024-1/.venv/lib64/python3.11/site-packages (from pandas) (2024.1)\n",
      "Requirement already satisfied: tzdata>=2022.7 in /home/cwolf/Documents/ENTORNOS/Clon/CienciaDatos2024-1/.venv/lib64/python3.11/site-packages (from pandas) (2024.1)\n",
      "Requirement already satisfied: six>=1.5 in /home/cwolf/Documents/ENTORNOS/Clon/CienciaDatos2024-1/.venv/lib64/python3.11/site-packages (from python-dateutil>=2.8.2->pandas) (1.16.0)\n",
      "Requirement already satisfied: scikit-learn in /home/cwolf/Documents/ENTORNOS/Clon/CienciaDatos2024-1/.venv/lib64/python3.11/site-packages (1.4.1.post1)\n",
      "Requirement already satisfied: numpy<2.0,>=1.19.5 in /home/cwolf/Documents/ENTORNOS/Clon/CienciaDatos2024-1/.venv/lib64/python3.11/site-packages (from scikit-learn) (1.26.4)\n",
      "Requirement already satisfied: scipy>=1.6.0 in /home/cwolf/Documents/ENTORNOS/Clon/CienciaDatos2024-1/.venv/lib64/python3.11/site-packages (from scikit-learn) (1.12.0)\n",
      "Requirement already satisfied: joblib>=1.2.0 in /home/cwolf/Documents/ENTORNOS/Clon/CienciaDatos2024-1/.venv/lib64/python3.11/site-packages (from scikit-learn) (1.3.2)\n",
      "Requirement already satisfied: threadpoolctl>=2.0.0 in /home/cwolf/Documents/ENTORNOS/Clon/CienciaDatos2024-1/.venv/lib64/python3.11/site-packages (from scikit-learn) (3.3.0)\n",
      "Requirement already satisfied: matplotlib in /home/cwolf/Documents/ENTORNOS/Clon/CienciaDatos2024-1/.venv/lib64/python3.11/site-packages (3.8.3)\n",
      "Requirement already satisfied: contourpy>=1.0.1 in /home/cwolf/Documents/ENTORNOS/Clon/CienciaDatos2024-1/.venv/lib64/python3.11/site-packages (from matplotlib) (1.2.0)\n",
      "Requirement already satisfied: cycler>=0.10 in /home/cwolf/Documents/ENTORNOS/Clon/CienciaDatos2024-1/.venv/lib64/python3.11/site-packages (from matplotlib) (0.12.1)\n",
      "Requirement already satisfied: fonttools>=4.22.0 in /home/cwolf/Documents/ENTORNOS/Clon/CienciaDatos2024-1/.venv/lib64/python3.11/site-packages (from matplotlib) (4.49.0)\n",
      "Requirement already satisfied: kiwisolver>=1.3.1 in /home/cwolf/Documents/ENTORNOS/Clon/CienciaDatos2024-1/.venv/lib64/python3.11/site-packages (from matplotlib) (1.4.5)\n",
      "Requirement already satisfied: numpy<2,>=1.21 in /home/cwolf/Documents/ENTORNOS/Clon/CienciaDatos2024-1/.venv/lib64/python3.11/site-packages (from matplotlib) (1.26.4)\n",
      "Requirement already satisfied: packaging>=20.0 in /home/cwolf/Documents/ENTORNOS/Clon/CienciaDatos2024-1/.venv/lib64/python3.11/site-packages (from matplotlib) (23.2)\n",
      "Requirement already satisfied: pillow>=8 in /home/cwolf/Documents/ENTORNOS/Clon/CienciaDatos2024-1/.venv/lib64/python3.11/site-packages (from matplotlib) (10.2.0)\n",
      "Requirement already satisfied: pyparsing>=2.3.1 in /home/cwolf/Documents/ENTORNOS/Clon/CienciaDatos2024-1/.venv/lib64/python3.11/site-packages (from matplotlib) (3.1.1)\n",
      "Requirement already satisfied: python-dateutil>=2.7 in /home/cwolf/Documents/ENTORNOS/Clon/CienciaDatos2024-1/.venv/lib64/python3.11/site-packages (from matplotlib) (2.9.0.post0)\n",
      "Requirement already satisfied: six>=1.5 in /home/cwolf/Documents/ENTORNOS/Clon/CienciaDatos2024-1/.venv/lib64/python3.11/site-packages (from python-dateutil>=2.7->matplotlib) (1.16.0)\n",
      "Requirement already satisfied: seaborn in /home/cwolf/Documents/ENTORNOS/Clon/CienciaDatos2024-1/.venv/lib64/python3.11/site-packages (0.13.2)\n",
      "Requirement already satisfied: numpy!=1.24.0,>=1.20 in /home/cwolf/Documents/ENTORNOS/Clon/CienciaDatos2024-1/.venv/lib64/python3.11/site-packages (from seaborn) (1.26.4)\n",
      "Requirement already satisfied: pandas>=1.2 in /home/cwolf/Documents/ENTORNOS/Clon/CienciaDatos2024-1/.venv/lib64/python3.11/site-packages (from seaborn) (2.2.1)\n",
      "Requirement already satisfied: matplotlib!=3.6.1,>=3.4 in /home/cwolf/Documents/ENTORNOS/Clon/CienciaDatos2024-1/.venv/lib64/python3.11/site-packages (from seaborn) (3.8.3)\n",
      "Requirement already satisfied: contourpy>=1.0.1 in /home/cwolf/Documents/ENTORNOS/Clon/CienciaDatos2024-1/.venv/lib64/python3.11/site-packages (from matplotlib!=3.6.1,>=3.4->seaborn) (1.2.0)\n",
      "Requirement already satisfied: cycler>=0.10 in /home/cwolf/Documents/ENTORNOS/Clon/CienciaDatos2024-1/.venv/lib64/python3.11/site-packages (from matplotlib!=3.6.1,>=3.4->seaborn) (0.12.1)\n",
      "Requirement already satisfied: fonttools>=4.22.0 in /home/cwolf/Documents/ENTORNOS/Clon/CienciaDatos2024-1/.venv/lib64/python3.11/site-packages (from matplotlib!=3.6.1,>=3.4->seaborn) (4.49.0)\n",
      "Requirement already satisfied: kiwisolver>=1.3.1 in /home/cwolf/Documents/ENTORNOS/Clon/CienciaDatos2024-1/.venv/lib64/python3.11/site-packages (from matplotlib!=3.6.1,>=3.4->seaborn) (1.4.5)\n",
      "Requirement already satisfied: packaging>=20.0 in /home/cwolf/Documents/ENTORNOS/Clon/CienciaDatos2024-1/.venv/lib64/python3.11/site-packages (from matplotlib!=3.6.1,>=3.4->seaborn) (23.2)\n",
      "Requirement already satisfied: pillow>=8 in /home/cwolf/Documents/ENTORNOS/Clon/CienciaDatos2024-1/.venv/lib64/python3.11/site-packages (from matplotlib!=3.6.1,>=3.4->seaborn) (10.2.0)\n",
      "Requirement already satisfied: pyparsing>=2.3.1 in /home/cwolf/Documents/ENTORNOS/Clon/CienciaDatos2024-1/.venv/lib64/python3.11/site-packages (from matplotlib!=3.6.1,>=3.4->seaborn) (3.1.1)\n",
      "Requirement already satisfied: python-dateutil>=2.7 in /home/cwolf/Documents/ENTORNOS/Clon/CienciaDatos2024-1/.venv/lib64/python3.11/site-packages (from matplotlib!=3.6.1,>=3.4->seaborn) (2.9.0.post0)\n",
      "Requirement already satisfied: pytz>=2020.1 in /home/cwolf/Documents/ENTORNOS/Clon/CienciaDatos2024-1/.venv/lib64/python3.11/site-packages (from pandas>=1.2->seaborn) (2024.1)\n",
      "Requirement already satisfied: tzdata>=2022.7 in /home/cwolf/Documents/ENTORNOS/Clon/CienciaDatos2024-1/.venv/lib64/python3.11/site-packages (from pandas>=1.2->seaborn) (2024.1)\n",
      "Requirement already satisfied: six>=1.5 in /home/cwolf/Documents/ENTORNOS/Clon/CienciaDatos2024-1/.venv/lib64/python3.11/site-packages (from python-dateutil>=2.7->matplotlib!=3.6.1,>=3.4->seaborn) (1.16.0)\n",
      "Requirement already satisfied: plotly in /home/cwolf/Documents/ENTORNOS/Clon/CienciaDatos2024-1/.venv/lib64/python3.11/site-packages (5.19.0)\n",
      "Requirement already satisfied: tenacity>=6.2.0 in /home/cwolf/Documents/ENTORNOS/Clon/CienciaDatos2024-1/.venv/lib64/python3.11/site-packages (from plotly) (8.2.3)\n",
      "Requirement already satisfied: packaging in /home/cwolf/Documents/ENTORNOS/Clon/CienciaDatos2024-1/.venv/lib64/python3.11/site-packages (from plotly) (23.2)\n"
     ]
    }
   ],
   "source": [
    "!pip install pandas\n",
    "!pip install scikit-learn\n",
    "!pip install matplotlib\n",
    "!pip install seaborn\n",
    "!pip install plotly"
   ]
  },
  {
   "cell_type": "code",
   "execution_count": 22,
   "metadata": {},
   "outputs": [],
   "source": [
    "import os\n",
    "import math as mt\n",
    "import pandas as pd\n",
    "from sklearn import linear_model\n",
    "from sklearn.metrics import mean_squared_error, r2_score\n"
   ]
  },
  {
   "cell_type": "code",
   "execution_count": 23,
   "metadata": {},
   "outputs": [],
   "source": [
    "import sys"
   ]
  },
  {
   "cell_type": "code",
   "execution_count": 33,
   "metadata": {},
   "outputs": [],
   "source": [
    "import sys\n",
    "sys.path.append(\"../\")\n",
    "\n",
    "import utils.imports as imp\n",
    "import utils.visuals as visu\n",
    "import utils.processing as proc"
   ]
  },
  {
   "cell_type": "code",
   "execution_count": 37,
   "metadata": {},
   "outputs": [
    {
     "ename": "AttributeError",
     "evalue": "module 'utils.imports' has no attribute 'read_csv_tomates'",
     "output_type": "error",
     "traceback": [
      "\u001b[0;31m---------------------------------------------------------------------------\u001b[0m",
      "\u001b[0;31mAttributeError\u001b[0m                            Traceback (most recent call last)",
      "Cell \u001b[0;32mIn[37], line 1\u001b[0m\n\u001b[0;32m----> 1\u001b[0m dataset \u001b[38;5;241m=\u001b[39m \u001b[43mimp\u001b[49m\u001b[38;5;241;43m.\u001b[39;49m\u001b[43mread_csv_tomates\u001b[49m(\u001b[38;5;124m\"\u001b[39m\u001b[38;5;124m../data/diabetes.tab.txt\u001b[39m\u001b[38;5;124m\"\u001b[39m)\n\u001b[1;32m      3\u001b[0m \u001b[38;5;66;03m# Load the data\u001b[39;00m\n",
      "\u001b[0;31mAttributeError\u001b[0m: module 'utils.imports' has no attribute 'read_csv_tomates'"
     ]
    }
   ],
   "source": [
    "dataset = imp.read_csv_tomates(\"../data/diabetes.tab.txt\")\n",
    "\n",
    "# Load the data"
   ]
  },
  {
   "cell_type": "code",
   "execution_count": 31,
   "metadata": {},
   "outputs": [
    {
     "ename": "AttributeError",
     "evalue": "module 'utils.imports' has no attribute 'read_csv'",
     "output_type": "error",
     "traceback": [
      "\u001b[0;31m---------------------------------------------------------------------------\u001b[0m",
      "\u001b[0;31mAttributeError\u001b[0m                            Traceback (most recent call last)",
      "Cell \u001b[0;32mIn[31], line 1\u001b[0m\n\u001b[0;32m----> 1\u001b[0m \u001b[43mimp\u001b[49m\u001b[38;5;241;43m.\u001b[39;49m\u001b[43mread_csv\u001b[49m(\u001b[38;5;124m\"\u001b[39m\u001b[38;5;124m../data/saved.csv\u001b[39m\u001b[38;5;124m\"\u001b[39m)\n",
      "\u001b[0;31mAttributeError\u001b[0m: module 'utils.imports' has no attribute 'read_csv'"
     ]
    }
   ],
   "source": []
  }
 ],
 "metadata": {
  "kernelspec": {
   "display_name": ".venv",
   "language": "python",
   "name": "python3"
  },
  "language_info": {
   "codemirror_mode": {
    "name": "ipython",
    "version": 3
   },
   "file_extension": ".py",
   "mimetype": "text/x-python",
   "name": "python",
   "nbconvert_exporter": "python",
   "pygments_lexer": "ipython3",
   "version": "3.11.6"
  }
 },
 "nbformat": 4,
 "nbformat_minor": 2
}

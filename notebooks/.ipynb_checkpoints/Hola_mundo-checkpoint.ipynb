{
 "cells": [
  {
   "cell_type": "markdown",
   "metadata": {
    "collapsed": false
   },
   "source": [
    "# Los títulos inician con el símbolo (#)\n",
    "##  Puntos principales con doble símbolo (##)\n",
    "### sub títulos con triple (###)\n",
    "#### Hay Hasta 4 niveles para títulos y subtítulos (####)\n",
    "\n",
    "Este notebook tiene el propósito de ser una guía para el formato, existen 2 tipos de celdas, code cell y markdown cell, la primera es para código y la segunda para documentar el proceso\n",
    "\n",
    "A continuación una celda de código:\n"
   ]
  },
  {
   "cell_type": "code",
   "execution_count": null,
   "outputs": [],
   "source": [
    "print(\"Hola mundo, soy una celda de código\")\n",
    "x = 123\n",
    "print(\"El valor guardado en x es: \", x)"
   ],
   "metadata": {
    "collapsed": false
   }
  },
  {
   "cell_type": "markdown",
   "metadata": {
    "collapsed": false
   },
   "source": [
    "Para hacer énfasis podemos usar __texto en negritas__ al añadir doble guión bajo al inicio y final de un texto, o bien usar *texto en cursiva* añadiendo un asterisco al inicio y final del texto\n",
    "\n",
    "Si deseamos hacer un listado:\n",
    "1. primer item\n",
    "2. segundo item\n",
    "3. tercer item\n",
    "    3.1 primer sub item\n",
    "    3.2 segundo sub item\n",
    "    3.3 tercer sub item\n",
    "- punto uno\n",
    "- punto dos\n",
    "    - sub punto uno\n",
    "        - sub sub punto uno"
   ]
  },
  {
   "cell_type": "markdown",
   "metadata": {
    "collapsed": false
   },
   "source": [
    "Si queremos utilizar imágenes desde internet para nuestro reporte usamos:\n",
    "<img src=\"https://seeklogo.com/images/D/dataspell-logo-06435B9CF3-seeklogo.com.png\" alt=\"soy una descripción de imagen\" title=\"yo soy un título\" />\n",
    "\n",
    "Más ejemplos para personalizar nuestro notebook en:\n",
    "[Markdown Cheat Sheet](https://www.markdownguide.org/cheat-sheet/)"
   ]
  },
  {
   "cell_type": "markdown",
   "metadata": {
    "collapsed": false
   },
   "source": [
    "Ejemplo del llamado de una función, para mantener legible nuestro notebook"
   ]
  },
  {
   "cell_type": "code",
   "execution_count": 2,
   "metadata": {
    "collapsed": false,
    "ExecuteTime": {
     "end_time": "2023-09-12T02:21:46.110403200Z",
     "start_time": "2023-09-12T02:21:45.898510700Z"
    }
   },
   "outputs": [
    {
     "name": "stdout",
     "output_type": "stream",
     "text": [
      "5.0\n"
     ]
    }
   ],
   "source": [
    "import visuals as visu\n"
   ]
  },
  {
   "cell_type": "code",
   "execution_count": 2,
   "metadata": {
    "collapsed": false,
    "ExecuteTime": {
     "end_time": "2023-09-12T02:21:46.126676Z",
     "start_time": "2023-09-12T02:21:46.112275200Z"
    }
   },
   "outputs": [],
   "source": []
  }
 ],
 "metadata": {
  "kernelspec": {
   "display_name": "Python 3 (ipykernel)",
   "language": "python",
   "name": "python3"
  },
  "language_info": {
   "codemirror_mode": {
    "name": "ipython",
    "version": 3
   },
   "file_extension": ".py",
   "mimetype": "text/x-python",
   "name": "python",
   "nbconvert_exporter": "python",
   "pygments_lexer": "ipython3",
   "version": "3.9.13"
  }
 },
 "nbformat": 4,
 "nbformat_minor": 4
}
